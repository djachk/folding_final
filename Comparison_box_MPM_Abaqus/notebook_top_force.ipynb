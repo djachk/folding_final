{
 "cells": [
  {
   "cell_type": "code",
   "execution_count": 1,
   "id": "14cad30d",
   "metadata": {},
   "outputs": [],
   "source": [
    "import matplotlib\n",
    "import matplotlib.pyplot as plt\n",
    "import numpy as np\n",
    "import seaborn as sns\n",
    "import random"
   ]
  },
  {
   "cell_type": "code",
   "execution_count": 2,
   "id": "98425021",
   "metadata": {},
   "outputs": [],
   "source": [
    "liste_E = [50000] #[500, 1000, 3000]\n",
    "liste_nu = [0.40] #[0.35, 0.41, 0.45] #[0.35, 0.41, 0.45]\n",
    "g=20\n",
    "rho_top = 20\n",
    "h_top = 0.2\n",
    "Pa = rho_top * g * h_top"
   ]
  },
  {
   "cell_type": "code",
   "execution_count": 3,
   "id": "dc2671d2",
   "metadata": {},
   "outputs": [],
   "source": [
    "def lire_points_MPM(E,nu, glocal):\n",
    "    nom_fich = \"MPM_top\"  + \"-E\" + str(int(E)) + \"-nu\" + \"{:.2f}\".format(nu)+ \"-rho\" + str(int(rho_top))  + \"-g\" + str(int(glocal))+ \".res\"\n",
    "    f_MPM = open(nom_fich, \"r\")\n",
    "    points_MPM_X = []\n",
    "    points_MPM_Y = []\n",
    "    lines_MPM = f_MPM.readlines()\n",
    "    for line in lines_MPM:\n",
    "        lu = line[:-1]\n",
    "        liste_lue = lu.split(\" \")\n",
    "        points_MPM_X.append(float(liste_lue[0]))\n",
    "        points_MPM_Y.append(float(liste_lue[1]))\n",
    "    return points_MPM_X, points_MPM_Y"
   ]
  },
  {
   "cell_type": "code",
   "execution_count": 4,
   "id": "85773e5c",
   "metadata": {},
   "outputs": [],
   "source": [
    "def lire_points_FEM(E,nu, glocal):\n",
    "    nom_fich = \"FEM_top\"  + \"-Pa\" + str(int(Pa)) + \"-g\" + str(int(glocal))+ \".res\"\n",
    "    f_FEM = open(nom_fich, \"r\")\n",
    "    points_FEM_X = []\n",
    "    points_FEM_Y = []\n",
    "    lines_FEM = f_FEM.readlines()\n",
    "    for line in lines_FEM:\n",
    "        lu = line[:-1]\n",
    "        liste_lue = lu.split(\" \")\n",
    "        points_FEM_X.append(float(liste_lue[0]))\n",
    "        points_FEM_Y.append(float(liste_lue[1]))\n",
    "    return points_FEM_X, points_FEM_Y"
   ]
  },
  {
   "cell_type": "code",
   "execution_count": 5,
   "id": "e6aecc6c",
   "metadata": {},
   "outputs": [],
   "source": [
    "def lire_points_ABAQUS(E,nu, glocal):\n",
    "    #nom_fich = \"ABAQUS-\"  + \"E\" + str(int(E)) + \"-nu\" + \"{:.2f}\".format(nu) + \"-g\" + str(int(glocal))+ \".temoin\"\n",
    "    nom_fich = \"ABAQUS_top\"  + \"-E\" + str(int(E)) + \"-nu\" + \"{:.2f}\".format(nu)+ \"-rho\" + str(int(rho_top))  + \"-g\" + str(int(glocal))+ \".res\"\n",
    "    f_ABAQUS = open(nom_fich, \"r\")\n",
    "    points_ABAQUS_X = []\n",
    "    points_ABAQUS_Y = []\n",
    "    lines_ABAQUS = f_ABAQUS.readlines()\n",
    "    for line in lines_ABAQUS:\n",
    "        lu = line   #[:-1]\n",
    "        liste_lue = lu.split()         \n",
    "        #print(\"lu 5:\",liste_lue[5], \" lu 6: \",liste_lue[6])\n",
    "        points_ABAQUS_X.append(float(liste_lue[5]))\n",
    "        points_ABAQUS_Y.append(float(liste_lue[6]))\n",
    "    return points_ABAQUS_X, points_ABAQUS_Y"
   ]
  },
  {
   "cell_type": "code",
   "execution_count": 6,
   "id": "052f9a6d",
   "metadata": {},
   "outputs": [
    {
     "data": {
      "image/png": "[encoded data removed]",
      "text/plain": [
       "<Figure size 576x432 with 1 Axes>"
      ]
     },
     "metadata": {
      "needs_background": "light"
     },
     "output_type": "display_data"
    }
   ],
   "source": [
    "#fig, ax = plt.subplots(len(liste_E),len(liste_nu),figsize=(14, len(liste_E)*3), layout='constrained', squeeze=False)\n",
    "#fig, ax = plt.subplots(3,3,figsize=(14, 3*3), layout='constrained', squeeze=False)\n",
    "fig, ax = plt.subplots(1,1,figsize=(8, 6), layout='constrained', squeeze=False)\n",
    "for i,E in enumerate(liste_E):\n",
    "    if E==500:\n",
    "        gparam = 15\n",
    "    else:\n",
    "        gparam = g\n",
    "    for j,nu in enumerate(liste_nu):\n",
    "#         points_FEM_X, points_FEM_Y = lire_points_FEM(E,nu, gparam)\n",
    "#         ax[i,j].scatter(points_FEM_X, points_FEM_Y, color='red', s=3 , label =\"FEM\")         \n",
    "\n",
    "        points_ABAQUS_X, points_ABAQUS_Y = lire_points_ABAQUS(E,nu, gparam)\n",
    "        decalage_X= 0.0 #0.780   #0.66\n",
    "        decalage_Y= 0.0 # 0.340   #0.0\n",
    "        ax[i,j].scatter([x + decalage_X for x in points_ABAQUS_X], [y + decalage_Y for y in points_ABAQUS_Y], color='green', s=3, label =\"ABAQUS\" )\n",
    "\n",
    "        points_MPM_X, points_MPM_Y = lire_points_MPM(E,nu, gparam)\n",
    "        ax[i,j].scatter(points_MPM_X, points_MPM_Y, color='blue', s=3, label =\"MPM\" )\n",
    "\n",
    "        ax[i,j].xaxis.set_ticks(np.arange(0, 1, 0.1))\n",
    "        ax[i,j].yaxis.set_ticks(np.arange(0, 1, 0.1))\n",
    "        ax[i,j].grid()\n",
    "        \n",
    "        ax[i,j].plot([0.2, 0.2, 0.8, 0.8], [0.0, 0.4, 0.4, 0.0], color = \"black\", label =\"original below object\")\n",
    "        ax[i,j].set_xlim(0,1)\n",
    "        ax[i,j].set_ylim(0,1)     \n",
    "        ax[i,j].set_title(\"plot of object E=500, nu=0.35 with object on top : E=\" + str(E) + \" , \" + \"nu=\" + \"{:.2f}\".format(nu) + \" , rho= \" + str(rho_top))\n",
    "        ax[i,j].legend()"
   ]
  },
  {
   "cell_type": "code",
   "execution_count": 7,
   "id": "f254229a",
   "metadata": {},
   "outputs": [],
   "source": [
    "################################################"
   ]
  },
  {
   "cell_type": "code",
   "execution_count": 8,
   "id": "9728f016",
   "metadata": {},
   "outputs": [],
   "source": [
    "a=np.array([[1,2],[3,4],[5,6]])"
   ]
  },
  {
   "cell_type": "code",
   "execution_count": 9,
   "id": "160c56bb",
   "metadata": {},
   "outputs": [
    {
     "data": {
      "text/plain": [
       "(3, 2)"
      ]
     },
     "execution_count": 9,
     "metadata": {},
     "output_type": "execute_result"
    }
   ],
   "source": [
    "a.shape"
   ]
  },
  {
   "cell_type": "code",
   "execution_count": 10,
   "id": "ba1cf606",
   "metadata": {},
   "outputs": [],
   "source": [
    "from scipy.spatial import ConvexHull, convex_hull_plot_2d"
   ]
  },
  {
   "cell_type": "code",
   "execution_count": 11,
   "id": "ffbbc005",
   "metadata": {},
   "outputs": [],
   "source": [
    "rng = np.random.default_rng()"
   ]
  },
  {
   "cell_type": "code",
   "execution_count": 12,
   "id": "fcbe438a",
   "metadata": {},
   "outputs": [],
   "source": [
    "points = rng.random((30, 2))"
   ]
  },
  {
   "cell_type": "code",
   "execution_count": 13,
   "id": "cb43d3db",
   "metadata": {},
   "outputs": [
    {
     "data": {
      "text/plain": [
       "(30, 2)"
      ]
     },
     "execution_count": 13,
     "metadata": {},
     "output_type": "execute_result"
    }
   ],
   "source": [
    "points.shape"
   ]
  },
  {
   "cell_type": "code",
   "execution_count": 14,
   "id": "015f86c0",
   "metadata": {},
   "outputs": [],
   "source": [
    "hull = ConvexHull(points)"
   ]
  },
  {
   "cell_type": "code",
   "execution_count": 15,
   "id": "92632819",
   "metadata": {},
   "outputs": [
    {
     "data": {
      "image/png": "[encoded data removed]",
      "text/plain": [
       "<Figure size 432x288 with 1 Axes>"
      ]
     },
     "metadata": {
      "needs_background": "light"
     },
     "output_type": "display_data"
    }
   ],
   "source": [
    "plt.plot(points[:,0], points[:,1], 'o')\n",
    "for simplex in hull.simplices:\n",
    "    plt.plot(points[simplex, 0], points[simplex, 1], 'g-')"
   ]
  },
  {
   "cell_type": "code",
   "execution_count": null,
   "id": "30574e1b",
   "metadata": {},
   "outputs": [],
   "source": []
  },
  {
   "cell_type": "code",
   "execution_count": 16,
   "id": "92760926",
   "metadata": {},
   "outputs": [
    {
     "data": {
      "text/plain": [
       "array([[15, 26],\n",
       "       [11,  8],\n",
       "       [11, 10],\n",
       "       [ 3,  8],\n",
       "       [ 3, 14],\n",
       "       [23, 26],\n",
       "       [23, 14],\n",
       "       [19, 10],\n",
       "       [19,  0],\n",
       "       [24,  0],\n",
       "       [22, 15],\n",
       "       [22, 24]], dtype=int32)"
      ]
     },
     "execution_count": 16,
     "metadata": {},
     "output_type": "execute_result"
    }
   ],
   "source": [
    "hull.simplices"
   ]
  },
  {
   "cell_type": "code",
   "execution_count": 17,
   "id": "6e03a76c",
   "metadata": {},
   "outputs": [
    {
     "name": "stdout",
     "output_type": "stream",
     "text": [
      "Help on ConvexHull in module scipy.spatial.qhull object:\n",
      "\n",
      "class ConvexHull(_QhullUser)\n",
      " |  ConvexHull(points, incremental=False, qhull_options=None)\n",
      " |  \n",
      " |  ConvexHull(points, incremental=False, qhull_options=None)\n",
      " |  \n",
      " |  Convex hulls in N dimensions.\n",
      " |  \n",
      " |  .. versionadded:: 0.12.0\n",
      " |  \n",
      " |  Parameters\n",
      " |  ----------\n",
      " |  points : ndarray of floats, shape (npoints, ndim)\n",
      " |      Coordinates of points to construct a convex hull from\n",
      " |  incremental : bool, optional\n",
      " |      Allow adding new points incrementally. This takes up some additional\n",
      " |      resources.\n",
      " |  qhull_options : str, optional\n",
      " |      Additional options to pass to Qhull. See Qhull manual\n",
      " |      for details. (Default: \"Qx\" for ndim > 4 and \"\" otherwise)\n",
      " |      Option \"Qt\" is always enabled.\n",
      " |  \n",
      " |  Attributes\n",
      " |  ----------\n",
      " |  points : ndarray of double, shape (npoints, ndim)\n",
      " |      Coordinates of input points.\n",
      " |  vertices : ndarray of ints, shape (nvertices,)\n",
      " |      Indices of points forming the vertices of the convex hull.\n",
      " |      For 2-D convex hulls, the vertices are in counterclockwise order.\n",
      " |      For other dimensions, they are in input order.\n",
      " |  simplices : ndarray of ints, shape (nfacet, ndim)\n",
      " |      Indices of points forming the simplical facets of the convex hull.\n",
      " |  neighbors : ndarray of ints, shape (nfacet, ndim)\n",
      " |      Indices of neighbor facets for each facet.\n",
      " |      The kth neighbor is opposite to the kth vertex.\n",
      " |      -1 denotes no neighbor.\n",
      " |  equations : ndarray of double, shape (nfacet, ndim+1)\n",
      " |      [normal, offset] forming the hyperplane equation of the facet\n",
      " |      (see `Qhull documentation <http://www.qhull.org/>`__  for more).\n",
      " |  coplanar : ndarray of int, shape (ncoplanar, 3)\n",
      " |      Indices of coplanar points and the corresponding indices of\n",
      " |      the nearest facets and nearest vertex indices.  Coplanar\n",
      " |      points are input points which were *not* included in the\n",
      " |      triangulation due to numerical precision issues.\n",
      " |  \n",
      " |      If option \"Qc\" is not specified, this list is not computed.\n",
      " |  good : ndarray of bool or None\n",
      " |      A one-dimensional Boolean array indicating which facets are\n",
      " |      good. Used with options that compute good facets, e.g. QGn\n",
      " |      and QG-n. Good facets are defined as those that are\n",
      " |      visible (n) or invisible (-n) from point n, where\n",
      " |      n is the nth point in 'points'. The 'good' attribute may be\n",
      " |      used as an index into 'simplices' to return the good (visible)\n",
      " |      facets: simplices[good]. A facet is visible from the outside\n",
      " |      of the hull only, and neither coplanarity nor degeneracy count\n",
      " |      as cases of visibility.\n",
      " |  \n",
      " |      If a \"QGn\" or \"QG-n\" option is not specified, None is returned.\n",
      " |  \n",
      " |      .. versionadded:: 1.3.0\n",
      " |  area : float\n",
      " |      Surface area of the convex hull when input dimension > 2.\n",
      " |      When input `points` are 2-dimensional, this is the perimeter of the convex hull.\n",
      " |  \n",
      " |      .. versionadded:: 0.17.0\n",
      " |  volume : float\n",
      " |      Volume of the convex hull when input dimension > 2.\n",
      " |      When input `points` are 2-dimensional, this is the area of the convex hull.\n",
      " |  \n",
      " |      .. versionadded:: 0.17.0\n",
      " |  \n",
      " |  Raises\n",
      " |  ------\n",
      " |  QhullError\n",
      " |      Raised when Qhull encounters an error condition, such as\n",
      " |      geometrical degeneracy when options to resolve are not enabled.\n",
      " |  ValueError\n",
      " |      Raised if an incompatible array is given as input.\n",
      " |  \n",
      " |  Notes\n",
      " |  -----\n",
      " |  The convex hull is computed using the\n",
      " |  `Qhull library <http://www.qhull.org/>`__.\n",
      " |  \n",
      " |  Examples\n",
      " |  --------\n",
      " |  \n",
      " |  Convex hull of a random set of points:\n",
      " |  \n",
      " |  >>> from scipy.spatial import ConvexHull, convex_hull_plot_2d\n",
      " |  >>> rng = np.random.default_rng()\n",
      " |  >>> points = rng.random((30, 2))   # 30 random points in 2-D\n",
      " |  >>> hull = ConvexHull(points)\n",
      " |  \n",
      " |  Plot it:\n",
      " |  \n",
      " |  >>> import matplotlib.pyplot as plt\n",
      " |  >>> plt.plot(points[:,0], points[:,1], 'o')\n",
      " |  >>> for simplex in hull.simplices:\n",
      " |  ...     plt.plot(points[simplex, 0], points[simplex, 1], 'k-')\n",
      " |  \n",
      " |  We could also have directly used the vertices of the hull, which\n",
      " |  for 2-D are guaranteed to be in counterclockwise order:\n",
      " |  \n",
      " |  >>> plt.plot(points[hull.vertices,0], points[hull.vertices,1], 'r--', lw=2)\n",
      " |  >>> plt.plot(points[hull.vertices[0],0], points[hull.vertices[0],1], 'ro')\n",
      " |  >>> plt.show()\n",
      " |  \n",
      " |  Facets visible from a point:\n",
      " |  \n",
      " |  Create a square and add a point above the square.\n",
      " |  \n",
      " |  >>> generators = np.array([[0.2, 0.2],\n",
      " |  ...                        [0.2, 0.4],\n",
      " |  ...                        [0.4, 0.4],\n",
      " |  ...                        [0.4, 0.2],\n",
      " |  ...                        [0.3, 0.6]])\n",
      " |  \n",
      " |  Call ConvexHull with the QG option. QG4 means\n",
      " |  compute the portions of the hull not including\n",
      " |  point 4, indicating the facets that are visible\n",
      " |  from point 4.\n",
      " |  \n",
      " |  >>> hull = ConvexHull(points=generators,\n",
      " |  ...                   qhull_options='QG4')\n",
      " |  \n",
      " |  The \"good\" array indicates which facets are\n",
      " |  visible from point 4.\n",
      " |  \n",
      " |  >>> print(hull.simplices)\n",
      " |      [[1 0]\n",
      " |       [1 2]\n",
      " |       [3 0]\n",
      " |       [3 2]]\n",
      " |  >>> print(hull.good)\n",
      " |      [False  True False False]\n",
      " |  \n",
      " |  Now plot it, highlighting the visible facets.\n",
      " |  \n",
      " |  >>> fig = plt.figure()\n",
      " |  >>> ax = fig.add_subplot(1,1,1)\n",
      " |  >>> for visible_facet in hull.simplices[hull.good]:\n",
      " |  ...     ax.plot(hull.points[visible_facet, 0],\n",
      " |  ...             hull.points[visible_facet, 1],\n",
      " |  ...             color='violet',\n",
      " |  ...             lw=6)\n",
      " |  >>> convex_hull_plot_2d(hull, ax=ax)\n",
      " |      <Figure size 640x480 with 1 Axes> # may vary\n",
      " |  >>> plt.show()\n",
      " |  \n",
      " |  References\n",
      " |  ----------\n",
      " |  .. [Qhull] http://www.qhull.org/\n",
      " |  \n",
      " |  Method resolution order:\n",
      " |      ConvexHull\n",
      " |      _QhullUser\n",
      " |      builtins.object\n",
      " |  \n",
      " |  Methods defined here:\n",
      " |  \n",
      " |  __init__(self, points, incremental=False, qhull_options=None)\n",
      " |  \n",
      " |  add_points(self, points, restart=False)\n",
      " |      add_points(points, restart=False)\n",
      " |      \n",
      " |      Process a set of additional new points.\n",
      " |      \n",
      " |      Parameters\n",
      " |      ----------\n",
      " |      points : ndarray\n",
      " |          New points to add. The dimensionality should match that of the\n",
      " |          initial points.\n",
      " |      restart : bool, optional\n",
      " |          Whether to restart processing from scratch, rather than\n",
      " |          adding points incrementally.\n",
      " |      \n",
      " |      Raises\n",
      " |      ------\n",
      " |      QhullError\n",
      " |          Raised when Qhull encounters an error condition, such as\n",
      " |          geometrical degeneracy when options to resolve are not enabled.\n",
      " |      \n",
      " |      See Also\n",
      " |      --------\n",
      " |      close\n",
      " |      \n",
      " |      Notes\n",
      " |      -----\n",
      " |      You need to specify ``incremental=True`` when constructing the\n",
      " |      object to be able to add points incrementally. Incremental addition\n",
      " |      of points is also not possible after `close` has been called.\n",
      " |  \n",
      " |  ----------------------------------------------------------------------\n",
      " |  Readonly properties defined here:\n",
      " |  \n",
      " |  points\n",
      " |  \n",
      " |  vertices\n",
      " |  \n",
      " |  ----------------------------------------------------------------------\n",
      " |  Methods inherited from _QhullUser:\n",
      " |  \n",
      " |  __del__(self)\n",
      " |  \n",
      " |  close(self)\n",
      " |      close()\n",
      " |      \n",
      " |      Finish incremental processing.\n",
      " |      \n",
      " |      Call this to free resources taken up by Qhull, when using the\n",
      " |      incremental mode. After calling this, adding more points is no\n",
      " |      longer possible.\n",
      " |  \n",
      " |  ----------------------------------------------------------------------\n",
      " |  Data descriptors inherited from _QhullUser:\n",
      " |  \n",
      " |  __dict__\n",
      " |      dictionary for instance variables (if defined)\n",
      " |  \n",
      " |  __weakref__\n",
      " |      list of weak references to the object (if defined)\n",
      "\n"
     ]
    }
   ],
   "source": [
    "help(hull)"
   ]
  },
  {
   "cell_type": "code",
   "execution_count": 18,
   "id": "b9da2743",
   "metadata": {},
   "outputs": [],
   "source": [
    "a=np.array([1,2,3])"
   ]
  },
  {
   "cell_type": "code",
   "execution_count": 19,
   "id": "863aad29",
   "metadata": {},
   "outputs": [
    {
     "data": {
      "text/plain": [
       "array([ True,  True,  True])"
      ]
     },
     "execution_count": 19,
     "metadata": {},
     "output_type": "execute_result"
    }
   ],
   "source": [
    "a>0"
   ]
  },
  {
   "cell_type": "code",
   "execution_count": 20,
   "id": "d45fb500",
   "metadata": {},
   "outputs": [],
   "source": [
    "#####################################################"
   ]
  },
  {
   "cell_type": "code",
   "execution_count": 21,
   "id": "776a4997",
   "metadata": {},
   "outputs": [],
   "source": [
    "from scipy.spatial import Delaunay"
   ]
  },
  {
   "cell_type": "code",
   "execution_count": 22,
   "id": "e00ea5ce",
   "metadata": {},
   "outputs": [
    {
     "name": "stdout",
     "output_type": "stream",
     "text": [
      "Help on class Delaunay in module scipy.spatial.qhull:\n",
      "\n",
      "class Delaunay(_QhullUser)\n",
      " |  Delaunay(points, furthest_site=False, incremental=False, qhull_options=None)\n",
      " |  \n",
      " |  Delaunay(points, furthest_site=False, incremental=False, qhull_options=None)\n",
      " |  \n",
      " |  Delaunay tessellation in N dimensions.\n",
      " |  \n",
      " |  .. versionadded:: 0.9\n",
      " |  \n",
      " |  Parameters\n",
      " |  ----------\n",
      " |  points : ndarray of floats, shape (npoints, ndim)\n",
      " |      Coordinates of points to triangulate\n",
      " |  furthest_site : bool, optional\n",
      " |      Whether to compute a furthest-site Delaunay triangulation.\n",
      " |      Default: False\n",
      " |  \n",
      " |      .. versionadded:: 0.12.0\n",
      " |  incremental : bool, optional\n",
      " |      Allow adding new points incrementally. This takes up some additional\n",
      " |      resources.\n",
      " |  qhull_options : str, optional\n",
      " |      Additional options to pass to Qhull. See Qhull manual for\n",
      " |      details. Option \"Qt\" is always enabled.\n",
      " |      Default:\"Qbb Qc Qz Qx Q12\" for ndim > 4 and \"Qbb Qc Qz Q12\" otherwise.\n",
      " |      Incremental mode omits \"Qz\".\n",
      " |  \n",
      " |      .. versionadded:: 0.12.0\n",
      " |  \n",
      " |  Attributes\n",
      " |  ----------\n",
      " |  points : ndarray of double, shape (npoints, ndim)\n",
      " |      Coordinates of input points.\n",
      " |  simplices : ndarray of ints, shape (nsimplex, ndim+1)\n",
      " |      Indices of the points forming the simplices in the triangulation.\n",
      " |      For 2-D, the points are oriented counterclockwise.\n",
      " |  neighbors : ndarray of ints, shape (nsimplex, ndim+1)\n",
      " |      Indices of neighbor simplices for each simplex.\n",
      " |      The kth neighbor is opposite to the kth vertex.\n",
      " |      For simplices at the boundary, -1 denotes no neighbor.\n",
      " |  equations : ndarray of double, shape (nsimplex, ndim+2)\n",
      " |      [normal, offset] forming the hyperplane equation of the facet\n",
      " |      on the paraboloid\n",
      " |      (see `Qhull documentation <http://www.qhull.org/>`__ for more).\n",
      " |  paraboloid_scale, paraboloid_shift : float\n",
      " |      Scale and shift for the extra paraboloid dimension\n",
      " |      (see `Qhull documentation <http://www.qhull.org/>`__ for more).\n",
      " |  transform : ndarray of double, shape (nsimplex, ndim+1, ndim)\n",
      " |      Affine transform from ``x`` to the barycentric coordinates ``c``.\n",
      " |      This is defined by::\n",
      " |  \n",
      " |          T c = x - r\n",
      " |  \n",
      " |      At vertex ``j``, ``c_j = 1`` and the other coordinates zero.\n",
      " |  \n",
      " |      For simplex ``i``, ``transform[i,:ndim,:ndim]`` contains\n",
      " |      inverse of the matrix ``T``, and ``transform[i,ndim,:]``\n",
      " |      contains the vector ``r``.\n",
      " |  \n",
      " |      If the simplex is degenerate or nearly degenerate, its\n",
      " |      barycentric transform contains NaNs.\n",
      " |  vertex_to_simplex : ndarray of int, shape (npoints,)\n",
      " |      Lookup array, from a vertex, to some simplex which it is a part of.\n",
      " |      If qhull option \"Qc\" was not specified, the list will contain -1\n",
      " |      for points that are not vertices of the tessellation.\n",
      " |  convex_hull : ndarray of int, shape (nfaces, ndim)\n",
      " |      Vertices of facets forming the convex hull of the point set.\n",
      " |      The array contains the indices of the points belonging to\n",
      " |      the (N-1)-dimensional facets that form the convex hull\n",
      " |      of the triangulation.\n",
      " |  \n",
      " |      .. note::\n",
      " |  \n",
      " |         Computing convex hulls via the Delaunay triangulation is\n",
      " |         inefficient and subject to increased numerical instability.\n",
      " |         Use `ConvexHull` instead.\n",
      " |  coplanar : ndarray of int, shape (ncoplanar, 3)\n",
      " |      Indices of coplanar points and the corresponding indices of\n",
      " |      the nearest facet and the nearest vertex.  Coplanar\n",
      " |      points are input points which were *not* included in the\n",
      " |      triangulation due to numerical precision issues.\n",
      " |  \n",
      " |      If option \"Qc\" is not specified, this list is not computed.\n",
      " |  \n",
      " |      .. versionadded:: 0.12.0\n",
      " |  vertices\n",
      " |      Same as `simplices`, but deprecated.\n",
      " |  vertex_neighbor_vertices : tuple of two ndarrays of int; (indptr, indices)\n",
      " |      Neighboring vertices of vertices. The indices of neighboring\n",
      " |      vertices of vertex `k` are ``indices[indptr[k]:indptr[k+1]]``.\n",
      " |  furthest_site\n",
      " |      True if this was a furthest site triangulation and False if not.\n",
      " |  \n",
      " |      .. versionadded:: 1.4.0\n",
      " |  \n",
      " |  Raises\n",
      " |  ------\n",
      " |  QhullError\n",
      " |      Raised when Qhull encounters an error condition, such as\n",
      " |      geometrical degeneracy when options to resolve are not enabled.\n",
      " |  ValueError\n",
      " |      Raised if an incompatible array is given as input.\n",
      " |  \n",
      " |  Notes\n",
      " |  -----\n",
      " |  The tessellation is computed using the Qhull library\n",
      " |  `Qhull library <http://www.qhull.org/>`__.\n",
      " |  \n",
      " |  .. note::\n",
      " |  \n",
      " |     Unless you pass in the Qhull option \"QJ\", Qhull does not\n",
      " |     guarantee that each input point appears as a vertex in the\n",
      " |     Delaunay triangulation. Omitted points are listed in the\n",
      " |     `coplanar` attribute.\n",
      " |  \n",
      " |  Examples\n",
      " |  --------\n",
      " |  Triangulation of a set of points:\n",
      " |  \n",
      " |  >>> points = np.array([[0, 0], [0, 1.1], [1, 0], [1, 1]])\n",
      " |  >>> from scipy.spatial import Delaunay\n",
      " |  >>> tri = Delaunay(points)\n",
      " |  \n",
      " |  We can plot it:\n",
      " |  \n",
      " |  >>> import matplotlib.pyplot as plt\n",
      " |  >>> plt.triplot(points[:,0], points[:,1], tri.simplices)\n",
      " |  >>> plt.plot(points[:,0], points[:,1], 'o')\n",
      " |  >>> plt.show()\n",
      " |  \n",
      " |  Point indices and coordinates for the two triangles forming the\n",
      " |  triangulation:\n",
      " |  \n",
      " |  >>> tri.simplices\n",
      " |  array([[2, 3, 0],                 # may vary\n",
      " |         [3, 1, 0]], dtype=int32)\n",
      " |  \n",
      " |  Note that depending on how rounding errors go, the simplices may\n",
      " |  be in a different order than above.\n",
      " |  \n",
      " |  >>> points[tri.simplices]\n",
      " |  array([[[ 1. ,  0. ],            # may vary\n",
      " |          [ 1. ,  1. ],\n",
      " |          [ 0. ,  0. ]],\n",
      " |         [[ 1. ,  1. ],\n",
      " |          [ 0. ,  1.1],\n",
      " |          [ 0. ,  0. ]]])\n",
      " |  \n",
      " |  Triangle 0 is the only neighbor of triangle 1, and it's opposite to\n",
      " |  vertex 1 of triangle 1:\n",
      " |  \n",
      " |  >>> tri.neighbors[1]\n",
      " |  array([-1,  0, -1], dtype=int32)\n",
      " |  >>> points[tri.simplices[1,1]]\n",
      " |  array([ 0. ,  1.1])\n",
      " |  \n",
      " |  We can find out which triangle points are in:\n",
      " |  \n",
      " |  >>> p = np.array([(0.1, 0.2), (1.5, 0.5), (0.5, 1.05)])\n",
      " |  >>> tri.find_simplex(p)\n",
      " |  array([ 1, -1, 1], dtype=int32)\n",
      " |  \n",
      " |  The returned integers in the array are the indices of the simplex the\n",
      " |  corresponding point is in. If -1 is returned, the point is in no simplex.\n",
      " |  Be aware that the shortcut in the following example only works corretcly\n",
      " |  for valid points as invalid points result in -1 which is itself a valid\n",
      " |  index for the last simplex in the list.\n",
      " |  \n",
      " |  >>> p_valids = np.array([(0.1, 0.2), (0.5, 1.05)])\n",
      " |  >>> tri.simplices[tri.find_simplex(p_valids)]\n",
      " |  array([[3, 1, 0],                 # may vary\n",
      " |         [3, 1, 0]], dtype=int32)\n",
      " |  \n",
      " |  We can also compute barycentric coordinates in triangle 1 for\n",
      " |  these points:\n",
      " |  \n",
      " |  >>> b = tri.transform[1,:2].dot(np.transpose(p - tri.transform[1,2]))\n",
      " |  >>> np.c_[np.transpose(b), 1 - b.sum(axis=0)]\n",
      " |  array([[ 0.1       ,  0.09090909,  0.80909091],\n",
      " |         [ 1.5       , -0.90909091,  0.40909091],\n",
      " |         [ 0.5       ,  0.5       ,  0.        ]])\n",
      " |  \n",
      " |  The coordinates for the first point are all positive, meaning it\n",
      " |  is indeed inside the triangle. The third point is on a vertex,\n",
      " |  hence its null third coordinate.\n",
      " |  \n",
      " |  Method resolution order:\n",
      " |      Delaunay\n",
      " |      _QhullUser\n",
      " |      builtins.object\n",
      " |  \n",
      " |  Methods defined here:\n",
      " |  \n",
      " |  __init__(self, points, furthest_site=False, incremental=False, qhull_options=None)\n",
      " |  \n",
      " |  add_points(self, points, restart=False)\n",
      " |      add_points(points, restart=False)\n",
      " |      \n",
      " |      Process a set of additional new points.\n",
      " |      \n",
      " |      Parameters\n",
      " |      ----------\n",
      " |      points : ndarray\n",
      " |          New points to add. The dimensionality should match that of the\n",
      " |          initial points.\n",
      " |      restart : bool, optional\n",
      " |          Whether to restart processing from scratch, rather than\n",
      " |          adding points incrementally.\n",
      " |      \n",
      " |      Raises\n",
      " |      ------\n",
      " |      QhullError\n",
      " |          Raised when Qhull encounters an error condition, such as\n",
      " |          geometrical degeneracy when options to resolve are not enabled.\n",
      " |      \n",
      " |      See Also\n",
      " |      --------\n",
      " |      close\n",
      " |      \n",
      " |      Notes\n",
      " |      -----\n",
      " |      You need to specify ``incremental=True`` when constructing the\n",
      " |      object to be able to add points incrementally. Incremental addition\n",
      " |      of points is also not possible after `close` has been called.\n",
      " |  \n",
      " |  find_simplex(self, xi, bruteforce=False, tol=None)\n",
      " |      find_simplex(self, xi, bruteforce=False, tol=None)\n",
      " |      \n",
      " |      Find the simplices containing the given points.\n",
      " |      \n",
      " |      Parameters\n",
      " |      ----------\n",
      " |      tri : DelaunayInfo\n",
      " |          Delaunay triangulation\n",
      " |      xi : ndarray of double, shape (..., ndim)\n",
      " |          Points to locate\n",
      " |      bruteforce : bool, optional\n",
      " |          Whether to only perform a brute-force search\n",
      " |      tol : float, optional\n",
      " |          Tolerance allowed in the inside-triangle check.\n",
      " |          Default is ``100*eps``.\n",
      " |      \n",
      " |      Returns\n",
      " |      -------\n",
      " |      i : ndarray of int, same shape as `xi`\n",
      " |          Indices of simplices containing each point.\n",
      " |          Points outside the triangulation get the value -1.\n",
      " |      \n",
      " |      Notes\n",
      " |      -----\n",
      " |      This uses an algorithm adapted from Qhull's ``qh_findbestfacet``,\n",
      " |      which makes use of the connection between a convex hull and a\n",
      " |      Delaunay triangulation. After finding the simplex closest to\n",
      " |      the point in N+1 dimensions, the algorithm falls back to\n",
      " |      directed search in N dimensions.\n",
      " |  \n",
      " |  lift_points(self, x)\n",
      " |      lift_points(self, x)\n",
      " |      \n",
      " |      Lift points to the Qhull paraboloid.\n",
      " |  \n",
      " |  plane_distance(self, xi)\n",
      " |      plane_distance(self, xi)\n",
      " |      \n",
      " |      Compute hyperplane distances to the point `xi` from all simplices.\n",
      " |  \n",
      " |  ----------------------------------------------------------------------\n",
      " |  Readonly properties defined here:\n",
      " |  \n",
      " |  convex_hull\n",
      " |      Vertices of facets forming the convex hull of the point set.\n",
      " |      \n",
      " |      :type: *ndarray of int, shape (nfaces, ndim)*\n",
      " |      \n",
      " |      The array contains the indices of the points\n",
      " |      belonging to the (N-1)-dimensional facets that form the convex\n",
      " |      hull of the triangulation.\n",
      " |      \n",
      " |      .. note::\n",
      " |      \n",
      " |         Computing convex hulls via the Delaunay triangulation is\n",
      " |         inefficient and subject to increased numerical instability.\n",
      " |         Use `ConvexHull` instead.\n",
      " |  \n",
      " |  points\n",
      " |  \n",
      " |  transform\n",
      " |      Affine transform from ``x`` to the barycentric coordinates ``c``.\n",
      " |      \n",
      " |      :type: *ndarray of double, shape (nsimplex, ndim+1, ndim)*\n",
      " |      \n",
      " |      This is defined by::\n",
      " |      \n",
      " |          T c = x - r\n",
      " |      \n",
      " |      At vertex ``j``, ``c_j = 1`` and the other coordinates zero.\n",
      " |      \n",
      " |      For simplex ``i``, ``transform[i,:ndim,:ndim]`` contains\n",
      " |      inverse of the matrix ``T``, and ``transform[i,ndim,:]``\n",
      " |      contains the vector ``r``.\n",
      " |  \n",
      " |  vertex_neighbor_vertices\n",
      " |      Neighboring vertices of vertices.\n",
      " |      \n",
      " |      Tuple of two ndarrays of int: (indptr, indices). The indices of\n",
      " |      neighboring vertices of vertex `k` are\n",
      " |      ``indices[indptr[k]:indptr[k+1]]``.\n",
      " |  \n",
      " |  vertex_to_simplex\n",
      " |      Lookup array, from a vertex, to some simplex which it is a part of.\n",
      " |      \n",
      " |      :type: *ndarray of int, shape (npoints,)*\n",
      " |  \n",
      " |  ----------------------------------------------------------------------\n",
      " |  Methods inherited from _QhullUser:\n",
      " |  \n",
      " |  __del__(self)\n",
      " |  \n",
      " |  close(self)\n",
      " |      close()\n",
      " |      \n",
      " |      Finish incremental processing.\n",
      " |      \n",
      " |      Call this to free resources taken up by Qhull, when using the\n",
      " |      incremental mode. After calling this, adding more points is no\n",
      " |      longer possible.\n",
      " |  \n",
      " |  ----------------------------------------------------------------------\n",
      " |  Data descriptors inherited from _QhullUser:\n",
      " |  \n",
      " |  __dict__\n",
      " |      dictionary for instance variables (if defined)\n",
      " |  \n",
      " |  __weakref__\n",
      " |      list of weak references to the object (if defined)\n",
      "\n"
     ]
    }
   ],
   "source": [
    "help(Delaunay)"
   ]
  },
  {
   "cell_type": "code",
   "execution_count": 23,
   "id": "a927e4b0",
   "metadata": {},
   "outputs": [],
   "source": [
    "points_MPM= np.array([[points_MPM_X[i], points_MPM_Y[i]] for i in range(len(points_MPM_X))])\n",
    "points_ABAQUS= np.array([[points_ABAQUS_X[i], points_ABAQUS_Y[i]] for i in range(len(points_ABAQUS_X))])"
   ]
  },
  {
   "cell_type": "code",
   "execution_count": 24,
   "id": "c66da084",
   "metadata": {},
   "outputs": [
    {
     "data": {
      "text/plain": [
       "array([0.15917969, 0.14089815])"
      ]
     },
     "execution_count": 24,
     "metadata": {},
     "output_type": "execute_result"
    }
   ],
   "source": [
    "points_MPM[0]"
   ]
  },
  {
   "cell_type": "code",
   "execution_count": 25,
   "id": "7d99be7d",
   "metadata": {},
   "outputs": [],
   "source": [
    "hull_MPM = ConvexHull(points_MPM)\n",
    "hull_ABAQUS = ConvexHull(points_ABAQUS)"
   ]
  },
  {
   "cell_type": "code",
   "execution_count": 26,
   "id": "615ea067",
   "metadata": {},
   "outputs": [],
   "source": [
    "min_X = min(points_MPM_X + points_ABAQUS_X)\n",
    "max_X = max(points_MPM_X + points_ABAQUS_X)\n",
    "min_Y = min(points_MPM_Y + points_ABAQUS_Y)\n",
    "max_Y = max(points_MPM_Y + points_ABAQUS_Y)"
   ]
  },
  {
   "cell_type": "code",
   "execution_count": 29,
   "id": "92f0db34",
   "metadata": {},
   "outputs": [
    {
     "data": {
      "image/png": "[encoded data removed]",
      "text/plain": [
       "<Figure size 432x288 with 1 Axes>"
      ]
     },
     "metadata": {
      "needs_background": "light"
     },
     "output_type": "display_data"
    }
   ],
   "source": [
    "#plt.plot(points_res[:,0], points_res[:,1], 'o')\n",
    "for simplex in hull_MPM.simplices:\n",
    "    plt.plot(points_MPM[simplex, 0], points_MPM[simplex, 1], 'b-')\n",
    "for simplex in hull_ABAQUS.simplices:\n",
    "    plt.plot(points_ABAQUS[simplex, 0], points_ABAQUS[simplex, 1], 'g-') \n",
    "plt.plot([min_X,min_X,max_X,max_X,min_X], [min_Y,max_Y,max_Y,min_Y,min_Y], 'k-')\n",
    "plt.title(\"convex hulls, MPM=blue, ABAQUS=green, containing square=black\")\n",
    "plt.show()"
   ]
  },
  {
   "cell_type": "code",
   "execution_count": 30,
   "id": "c06da82a",
   "metadata": {},
   "outputs": [],
   "source": [
    "hull_MPM_D = Delaunay(points_MPM)\n",
    "hull_ABAQUS_D = Delaunay(points_ABAQUS)"
   ]
  },
  {
   "cell_type": "code",
   "execution_count": 31,
   "id": "80db84b8",
   "metadata": {},
   "outputs": [
    {
     "data": {
      "text/plain": [
       "array(-1, dtype=int32)"
      ]
     },
     "execution_count": 31,
     "metadata": {},
     "output_type": "execute_result"
    }
   ],
   "source": [
    "hull_ABAQUS_D.find_simplex([0.5,0.8]) "
   ]
  },
  {
   "cell_type": "code",
   "execution_count": 32,
   "id": "e80d7d47",
   "metadata": {},
   "outputs": [],
   "source": [
    "nbre_points_test = 100000\n",
    "points_test = [[random.uniform(min_X, max_X),random.uniform(min_Y, max_Y)] for i in range(nbre_points_test)]"
   ]
  },
  {
   "cell_type": "code",
   "execution_count": 33,
   "id": "2cf1ebc2",
   "metadata": {},
   "outputs": [
    {
     "data": {
      "text/plain": [
       "100000"
      ]
     },
     "execution_count": 33,
     "metadata": {},
     "output_type": "execute_result"
    }
   ],
   "source": [
    "len(points_test)"
   ]
  },
  {
   "cell_type": "code",
   "execution_count": 34,
   "id": "e3fceb72",
   "metadata": {},
   "outputs": [],
   "source": [
    "inside_MPM = hull_MPM_D.find_simplex(points_test) > 0\n",
    "inside_ABAQUS = hull_ABAQUS_D.find_simplex(points_test) > 0"
   ]
  },
  {
   "cell_type": "code",
   "execution_count": 35,
   "id": "a59ffbf6",
   "metadata": {},
   "outputs": [
    {
     "data": {
      "text/plain": [
       "array([ True,  True,  True, ..., False,  True,  True])"
      ]
     },
     "execution_count": 35,
     "metadata": {},
     "output_type": "execute_result"
    }
   ],
   "source": [
    "inside_ABAQUS"
   ]
  },
  {
   "cell_type": "code",
   "execution_count": 36,
   "id": "3f2cf8d2",
   "metadata": {},
   "outputs": [],
   "source": [
    "in_intersection = len([i for i in range(nbre_points_test) if inside_MPM[i] and inside_ABAQUS[i]])\n",
    "in_MPM_not_ABAQUS = len([i for i in range(nbre_points_test) if inside_MPM[i] and (not inside_ABAQUS[i])])\n",
    "in_ABAQUS_not_MPM = len([i for i in range(nbre_points_test) if (not inside_MPM[i]) and inside_ABAQUS[i]])\n",
    "in_MPM = len([i for i in range(nbre_points_test) if inside_MPM[i]])\n",
    "in_ABAQUS = len([i for i in range(nbre_points_test) if inside_ABAQUS[i]])"
   ]
  },
  {
   "cell_type": "code",
   "execution_count": 37,
   "id": "184e4ea0",
   "metadata": {},
   "outputs": [
    {
     "name": "stdout",
     "output_type": "stream",
     "text": [
      "87237 4237 4832 91474 92069\n"
     ]
    }
   ],
   "source": [
    "print(in_intersection, in_MPM_not_ABAQUS, in_ABAQUS_not_MPM, in_MPM, in_ABAQUS)"
   ]
  },
  {
   "cell_type": "code",
   "execution_count": 38,
   "id": "3e0b5f98",
   "metadata": {},
   "outputs": [
    {
     "data": {
      "text/plain": [
       "0.10395818288111695"
      ]
     },
     "execution_count": 38,
     "metadata": {},
     "output_type": "execute_result"
    }
   ],
   "source": [
    "distance = (in_MPM_not_ABAQUS + in_ABAQUS_not_MPM) / in_intersection\n",
    "distance"
   ]
  },
  {
   "cell_type": "code",
   "execution_count": 39,
   "id": "0d21ab79",
   "metadata": {},
   "outputs": [
    {
     "data": {
      "text/plain": [
       "0.9505892352200846"
      ]
     },
     "execution_count": 39,
     "metadata": {},
     "output_type": "execute_result"
    }
   ],
   "source": [
    "DSC = 2*in_intersection / (in_MPM + in_ABAQUS)\n",
    "DSC"
   ]
  },
  {
   "cell_type": "code",
   "execution_count": null,
   "id": "9c8401e6",
   "metadata": {},
   "outputs": [],
   "source": []
  }
 ],
 "metadata": {
  "kernelspec": {
   "display_name": "Python 3 (ipykernel)",
   "language": "python",
   "name": "python3"
  },
  "language_info": {
   "codemirror_mode": {
    "name": "ipython",
    "version": 3
   },
   "file_extension": ".py",
   "mimetype": "text/x-python",
   "name": "python",
   "nbconvert_exporter": "python",
   "pygments_lexer": "ipython3",
   "version": "3.8.12"
  }
 },
 "nbformat": 4,
 "nbformat_minor": 5
}
